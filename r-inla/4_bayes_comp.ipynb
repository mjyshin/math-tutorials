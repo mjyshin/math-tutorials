{
 "cells": [
  {
   "cell_type": "markdown",
   "metadata": {},
   "source": [
    "# 4. Bayesian computing\n",
    "\n",
    "This notebook will cover important [`R`](https://www.r-project.org/) commands highlighted in Ch. 4 of the textbook, *Spatial and Spatio-temporal Bayesian Models with R-INLA* by Blangiardo and Cameletti.\n",
    "\n",
    "## 4.4. Monte Carlo simulations\n",
    "\n",
    "### Approximating the rate parameter\n",
    "\n",
    "Let's imagine a stochastic process that occurs (i.e., succeeds) at an unknown rate $\\lambda$ [1/s]. We collect data by considering $n$ successes and computing the time interval between them (starting from $t=0$). We can simulate this by sampling from the probabilistic model, called the **likelihood** $\\rho(\\mathcal{D} \\vert \\theta)$, where we model the wait time interval data as a r.v.\n",
    "\n",
    "$$\n",
    "Y \\sim \\text{Exponential}(\\lambda).\n",
    "$$\n",
    "\n",
    "Let $\\mathbf{y} := (y_i)_{i=1}^n$, where each $y_i$ is an i.i.d. realization of $Y$. Setting $n := 50$ and $\\lambda := 2$, we simulate the data using `R`'s [`rexp`](https://stat.ethz.ch/R-manual/R-devel/library/stats/html/Exponential.html) function."
   ]
  },
  {
   "cell_type": "code",
   "execution_count": 1,
   "metadata": {
    "vscode": {
     "languageId": "r"
    }
   },
   "outputs": [
    {
     "name": "stdout",
     "output_type": "stream",
     "text": [
      " [1] 0.37759092 0.59082139 0.07285336 0.06989763 0.21803431 1.44748427\n",
      " [7] 0.61478103 0.26984142 0.47828375 0.07352300 0.69536756 0.38101493\n",
      "[13] 0.61880178 2.21196711 0.52727158 0.51762197 0.93801759 0.32737332\n",
      "[19] 0.16846674 0.29423986 1.18225763 0.32094629 0.14706019 0.28293276\n",
      "[25] 0.05303631 0.02971958 0.28935623 1.97946643 0.58665605 0.49840648\n",
      "[31] 0.71764267 0.01863426 0.16200508 0.66023396 0.10175518 0.51136294\n",
      "[37] 0.15087047 0.36260715 0.37577135 0.11751373 0.53994057 0.51412345\n",
      "[43] 0.64613082 0.62655268 0.27732070 0.15064150 0.64656233 0.49727789\n",
      "[49] 0.25708715 1.00391620\n"
     ]
    }
   ],
   "source": [
    "set.seed(1)\n",
    "n <- 50\n",
    "lambda <- 2\n",
    "y <- rexp(n, lambda)\n",
    "print(y)"
   ]
  },
  {
   "cell_type": "markdown",
   "metadata": {},
   "source": [
    "Our job now is to take the data $\\mathbf{y}$ and reverse-engineer the true rate $\\lambda$ from it (hopefully we get something close to 2!).\n",
    "\n",
    "We first need a guess for the rate parameter; in fact, we'll define an entire \"guess distribution\" for $\\lambda$, called the **prior** $\\rho(\\theta)$, where we assume this nonnegative temporal rate is an instance of a r.v.\n",
    "\n",
    "$$\n",
    "\\Lambda \\sim \\text{Gamma}(a,b).\n",
    "$$\n",
    "\n",
    "We will set the prior **hyperparameters** $a := 8$ and $b := 4$."
   ]
  },
  {
   "cell_type": "code",
   "execution_count": 2,
   "metadata": {
    "vscode": {
     "languageId": "r"
    }
   },
   "outputs": [],
   "source": [
    "a <- 8\n",
    "b <- 4"
   ]
  },
  {
   "cell_type": "markdown",
   "metadata": {},
   "source": [
    "The resulting **posterior** $\\rho(\\theta \\vert \\mathcal{D}) \\propto \\rho(\\mathcal{D} \\vert \\theta)\\rho(\\theta)$ is **conjugate** to the prior, i.e., the prior-likelihood pair produces a posterior from the same family of distributions as the prior. In this example,\n",
    "\n",
    "$$\n",
    "\\Lambda \\vert \\mathbf{Y}=\\mathbf{y} \\sim \\text{Gamma}(a_1,b_1),\n",
    "$$\n",
    "\n",
    "where $a_1 := a+n$ and $b_1 := b+n\\bar y$ (here $\\bar y$ denotes the data mean)."
   ]
  },
  {
   "cell_type": "code",
   "execution_count": 3,
   "metadata": {
    "vscode": {
     "languageId": "r"
    }
   },
   "outputs": [],
   "source": [
    "a1 <- a + n\n",
    "b1 <- b + n*mean(y)"
   ]
  },
  {
   "cell_type": "markdown",
   "metadata": {},
   "source": [
    "---\n",
    "\n",
    "#### An aside: Posterior derivation\n",
    "\n",
    "If it's hard to convince yourself that the resulting posterior distribution, in this case, is indeed another gamma distribution, we will derive this fact here. First we consider the exponential likelihood for *one observation* with its density's functional form\n",
    "\n",
    "$$\n",
    "\\rho(y \\vert \\lambda) = \\lambda e^{-\\lambda y}.\n",
    "$$\n",
    "\n",
    "Similarly, the prior PDF is\n",
    "\n",
    "$$\n",
    "\\rho(\\lambda) \\propto \\lambda^{a-1}e^{-b\\lambda}.\n",
    "$$\n",
    "\n",
    "The resulting posterior PDF from the product of the two is, then,\n",
    "\n",
    "$$\n",
    "\\rho(\\lambda \\vert y) \\propto \\lambda^{(a+1)-1}e^{-(b+y)\\lambda},\n",
    "$$\n",
    "\n",
    "that is, $\\Lambda \\vert Y=y \\sim \\text{Gamma}(a+1,b+y)$.\n",
    "\n",
    "Next, let's consider the case with $n$ observations. Since we assume that they are i.i.d., the likelihood is the product\n",
    "\n",
    "$$\n",
    "\\rho(\\mathbf{y}) = \\prod_{i=1}^n \\rho(y_i) = \\lambda^n \\prod_{i=1}^n e^{-\\lambda y_i} = \\lambda^n e^{-\\lambda \\sum_{i=1}^n y_i},\n",
    "$$\n",
    "\n",
    "and the resulting posterior is\n",
    "\n",
    "$$\n",
    "\\rho(\\lambda \\vert \\mathbf{y}) \\propto \\lambda^{(a+n)-1}e^{-(b+\\sum_{i=1}^n y_i)\\lambda}.\n",
    "$$\n",
    "\n",
    "Noting the equivalence $\\sum_{i=1}^n y_i = n\\bar y$ from the definition of sample mean, we arrive at the posterior distribution above:\n",
    "\n",
    "$$\n",
    "\\Lambda \\vert \\mathbf{Y}=\\mathbf{y} \\sim \\text{Gamma}(a+n,b+n\\bar y).\n",
    "$$\n",
    "\n",
    "---\n",
    "\n",
    "Given this posterior, we can now answer the question of, \"What is the rate parameter given the data (and prior assumptions)?\". One such answer is to take the expected value of the posterior distribution, that is, $\\hat\\lambda := \\mathbb{E}[\\Lambda \\vert \\mathbf{Y}=\\mathbf{y}]$. In this particular case, there is an analytical form of $\\hat\\lambda$, namely, $\\frac{a_1}{b_1} = \\frac{a+n}{b+n\\bar y}$."
   ]
  },
  {
   "cell_type": "code",
   "execution_count": 4,
   "metadata": {
    "vscode": {
     "languageId": "r"
    }
   },
   "outputs": [
    {
     "name": "stdout",
     "output_type": "stream",
     "text": [
      "[1] 2.027898\n"
     ]
    }
   ],
   "source": [
    "lambdahat <- a1/b1\n",
    "print(lambdahat)"
   ]
  },
  {
   "cell_type": "markdown",
   "metadata": {},
   "source": [
    "However, an alternate answer to our question could have been the median of the posterior. Even in the case with a well-known (gamma) distribution, there is no analytical form for the median and it must be approximated asymptotically/computationally. We can even anticipate more difficult cases where not even an asymptotic form exists; how, then, should we go around this problem? One answer is with **Monte Carlo (MC) simulations**.\n",
    "\n",
    "Let's continue with the expected value example. We want to simulate samples of $\\lambda$ from the posterior gamma distribution. We will set the number of samples as $m := 1000$ and use `R`'s [`rgamma`](https://stat.ethz.ch/R-manual/R-devel/library/stats/html/GammaDist.html) function. Finally, we take the sample mean to get the simulated estimate $\\bar\\lambda$."
   ]
  },
  {
   "cell_type": "code",
   "execution_count": 5,
   "metadata": {
    "vscode": {
     "languageId": "r"
    }
   },
   "outputs": [
    {
     "name": "stdout",
     "output_type": "stream",
     "text": [
      "[1] 2.040972\n"
     ]
    }
   ],
   "source": [
    "set.seed(2)\n",
    "m <- 1000\n",
    "lambdas <- rgamma(n=m, shape=a1, rate=b1)\n",
    "lambdabar <- mean(lambdas)\n",
    "print(lambdabar)"
   ]
  },
  {
   "cell_type": "markdown",
   "metadata": {},
   "source": [
    "The sample mean $\\bar\\lambda \\approx 2.040972$ is not too far off from the theoretical mean $\\hat\\lambda \\approx 2.027898$, which is not a bad estimate of the unknown, data-generating rate $\\lambda = 2$.\n",
    "\n",
    "Let's visualize the entire posterior distribution $\\rho(\\lambda \\vert \\mathbf{y})$ (histogram of the simulations and theoretical density in black) and the expected value (solid vertical line for $\\hat\\lambda$ and dashed for $\\bar\\lambda$ in red):"
   ]
  },
  {
   "cell_type": "code",
   "execution_count": 6,
   "metadata": {
    "vscode": {
     "languageId": "r"
    }
   },
   "outputs": [
    {
     "data": {
      "image/png": "[encoded data removed]",
      "text/plain": [
       "Plot with title \"Lambda * \"|\" * Y == y %~% textstyle(\"Gamma\")(a[1], a[2])\""
      ]
     },
     "metadata": {
      "image/png": {
       "height": 420,
       "width": 420
      }
     },
     "output_type": "display_data"
    }
   ],
   "source": [
    "hist(lambdas, freq=F, xlim=c(0,4), ylim=c(0,1.5), xlab=expression(lambda),\n",
    "     main=expression(Lambda *\"|\"* Y==y %~% textstyle(\"Gamma\")(a[1],a[2])))\n",
    "curve(dgamma(x, a1, rate=b1), from=0, to=4, lwd=2, add=T)\n",
    "abline(v=lambdahat, col=\"red\")\n",
    "abline(v=lambdabar, col=\"red\", lwd=2, lty=2)"
   ]
  },
  {
   "cell_type": "markdown",
   "metadata": {},
   "source": [
    "#### Effect of simulation size\n",
    "\n",
    "We had somewhat arbitrarily set the simulation size at $m := 1000$. However, we would expect the sample mean $\\bar\\lambda$ to \"converge\" to the theoretical mean $\\hat\\lambda$ as we increase $m$. Furthermore, how *quickly* these means converge can be captured by the standard error of the sample mean estimate\n",
    "\n",
    "$$\n",
    "\\text{SE}(\\bar\\lambda) = \\sqrt{\\frac{s^2}{m}} = \\sqrt{\\frac{\\frac{1}{m}\\sum_{j=1}^m (\\lambda_j-\\bar\\lambda)^2}{m}} \\approx \\sqrt{\\frac{\\text{Var}(\\Lambda\\vert\\mathbf{Y}=\\mathbf{y})}{m}},\n",
    "$$\n",
    "\n",
    "where $s^2$ is the sample variance of the $m$ simulated $\\lambda_j$s from the posterior distribution. Note the effective use of the [`set.seed`](https://stat.ethz.ch/R-manual/R-devel/library/base/html/Random.html) function *inside* the `for` loop so we can track the evolution of the rate estimate as a running average, as well as the upper ($u := \\bar\\lambda+1.96\\text{SE}(\\bar\\lambda)$) and lower ($l := \\bar\\lambda-1.96\\text{SE}(\\bar\\lambda)$) 95% confidence bounds."
   ]
  },
  {
   "cell_type": "code",
   "execution_count": 7,
   "metadata": {
    "vscode": {
     "languageId": "r"
    }
   },
   "outputs": [],
   "source": [
    "set.seed(3)\n",
    "N <- 5000\n",
    "M <- 1\n",
    "ms <- integer(N)\n",
    "lambdabars <- numeric(N)\n",
    "ses <- numeric(N)\n",
    "lambdas <- NULL\n",
    "for (i in 1:N) {\n",
    "    ms[i] <- M*i\n",
    "    lambdas <- append(lambdas, rgamma(n=M, shape=a1, rate=b1))\n",
    "    lambdabars[i] <- mean(lambdas)\n",
    "    ses[i] <- sqrt(var(lambdas)/ms[i])\n",
    "}\n",
    "us <- lambdabars + 1.96*ses\n",
    "ls <- lambdabars - 1.96*ses"
   ]
  },
  {
   "cell_type": "markdown",
   "metadata": {},
   "source": [
    "Visualizing the sample means (black) and confidence bounds (grey), as well as the true rate $\\lambda$ (solid) and the theoretical posterior mean $\\hat\\lambda$ (dashed) in red, we can see the running average tending towards the theoretical mean on the order of $\\text{SE}(\\bar\\lambda) \\sim 1/\\sqrt{m}$."
   ]
  },
  {
   "cell_type": "code",
   "execution_count": 8,
   "metadata": {
    "vscode": {
     "languageId": "r"
    }
   },
   "outputs": [
    {
     "data": {
      "image/png": "[encoded data removed]",
      "text/plain": [
       "Plot with title \"abs(bar(lambda)[m] - hat(lambda))\""
      ]
     },
     "metadata": {
      "image/png": {
       "height": 420,
       "width": 420
      }
     },
     "output_type": "display_data"
    }
   ],
   "source": [
    "par(mfrow=c(2,1))\n",
    "plot(ms, us, col=\"grey\", xlab=\"m\", ylab=expression(lambda),\n",
    "     main=expression(\"E\"(Lambda *\"|\"* Y==y)),\n",
    "     ylim=c(min(ls, na.rm=T), max(us, na.rm=T)), type=\"l\")\n",
    "lines(ms, ls, col=\"grey\")\n",
    "lines(ms, lambdabars)\n",
    "abline(h=lambda, col=\"red\")\n",
    "abline(h=lambdahat, col=\"red\", lwd=2, lty=2)\n",
    "plot(-1/sqrt(ms), abs(lambdabars-lambdahat), type=\"l\",\n",
    "     xlab=expression(-1/sqrt(m)), ylab=expression(epsilon),\n",
    "     main=expression(abs(bar(lambda)[m] - hat(lambda))))"
   ]
  },
  {
   "cell_type": "markdown",
   "metadata": {},
   "source": [
    "### Approximating a generic observable\n",
    "\n",
    "The next example we will consider deals with using MC simulations to estimate a statistic derived from a model parameter. To make things more concrete, let's imagine $n$ random events, each with an unknown probability $p$ of success. This can data-generating process can be modeled as a r.v.\n",
    "\n",
    "$$\n",
    "Y \\sim \\text{Binomial}(n,p).\n",
    "$$\n",
    "\n",
    "We will set $n := 1000$ and $p := 0.8$, leading to the single data point $y$."
   ]
  },
  {
   "cell_type": "code",
   "execution_count": 9,
   "metadata": {
    "vscode": {
     "languageId": "r"
    }
   },
   "outputs": [
    {
     "name": "stdout",
     "output_type": "stream",
     "text": [
      "[1] 778\n"
     ]
    }
   ],
   "source": [
    "set.seed(4)\n",
    "n <- 1000\n",
    "p <- 0.8\n",
    "y <- rbinom(n=1, size=n, p=p)\n",
    "print(y)"
   ]
  },
  {
   "cell_type": "markdown",
   "metadata": {},
   "source": [
    "Our goal here is to not only estimate the parameter $p$ from the above datum, but also its derived statistic (commonly used in epidemiology), the **log-odds**, defined as\n",
    "\n",
    "$$\n",
    "h(p) := \\log\\left(\\frac{p}{1-p}\\right).\n",
    "$$\n",
    "\n",
    "As in the previous section, we first need an assumption on the probability $p$, which takes a value between 0 and 1. We will assume the prior distribution\n",
    "\n",
    "$$\n",
    "P \\sim \\text{Beta}(a,b),\n",
    "$$\n",
    "\n",
    "with $a := 1$ and $b := 1$."
   ]
  },
  {
   "cell_type": "code",
   "execution_count": 10,
   "metadata": {
    "vscode": {
     "languageId": "r"
    }
   },
   "outputs": [],
   "source": [
    "a <- 1\n",
    "b <- 1"
   ]
  },
  {
   "cell_type": "markdown",
   "metadata": {},
   "source": [
    "The beta prior is conjugate to its posterior under a binomial likelihood, so the parameter given the data is distributed as\n",
    "\n",
    "$$\n",
    "P \\vert Y=y \\sim \\text{Beta}(a_1,b_1),\n",
    "$$\n",
    "\n",
    "where $a_1 := y+a$ and $b_1 := n-y+b$ (we will not derive this here)."
   ]
  },
  {
   "cell_type": "code",
   "execution_count": 11,
   "metadata": {
    "vscode": {
     "languageId": "r"
    }
   },
   "outputs": [],
   "source": [
    "a1 <- y + a\n",
    "b1 <- n-y + b"
   ]
  },
  {
   "cell_type": "markdown",
   "metadata": {},
   "source": [
    "We may want to compute, for instance, the expected value of the log-odds from the data:\n",
    "\n",
    "$$\n",
    "H := \\mathbb{E}[h(P) \\vert Y=y] = \\int_0^1 \\log\\left(\\frac{p}{1-p}\\right) \\underbrace{\\overbrace{\\frac{\\Gamma(a_1+b_1)}{\\Gamma(a_1)\\Gamma(b_1)}}^{\\Beta(a_1,b_1)^{-1}}p^{a_1-1}(1-p)^{b_1-1}}_{\\rho(p \\vert y)}\\, \\text{d}p,\n",
    "$$\n",
    "\n",
    "where we have substituted in the functional form of the posterior beta PDF. Unlike with the vanilla expected value of $P \\vert Y=y$, $H$ does not have a closed form solution (try to find one, if you don't believe it!). But estimating it with MC simulations is trivial:\n",
    "\n",
    "$$\n",
    "\\hat H := \\frac{1}{m} \\sum_{j=1}^m \\log\\left(\\frac{p_j}{1-p_j}\\right),\n",
    "$$\n",
    "\n",
    "with each $p_j$ sampled i.i.d. from the *posterior* distribution."
   ]
  },
  {
   "cell_type": "code",
   "execution_count": 12,
   "metadata": {
    "vscode": {
     "languageId": "r"
    }
   },
   "outputs": [
    {
     "name": "stdout",
     "output_type": "stream",
     "text": [
      "[1] 1.253019\n"
     ]
    }
   ],
   "source": [
    "set.seed(5)\n",
    "m <- 50000\n",
    "ps <- rbeta(n=m, shape1=a1, shape2=b1)\n",
    "hps <- log(ps/(1-ps))\n",
    "Hhat <- mean(hps)\n",
    "print(Hhat)"
   ]
  },
  {
   "cell_type": "markdown",
   "metadata": {},
   "source": [
    "While there isn't an analytical form of $H$, `R` provides an [`integrate`](https://stat.ethz.ch/R-manual/R-devel/library/stats/html/integrate.html) function to numerically integrate a custom integrand (using a quadrature method). "
   ]
  },
  {
   "cell_type": "code",
   "execution_count": 13,
   "metadata": {
    "vscode": {
     "languageId": "r"
    }
   },
   "outputs": [
    {
     "name": "stdout",
     "output_type": "stream",
     "text": [
      "[1] 1.252441\n"
     ]
    }
   ],
   "source": [
    "hrho <- function(p,a,b) {\n",
    "    log(p/(1-p)) * p^(a-1)*(1-p)^(b-1)/beta(a,b)\n",
    "}\n",
    "H <- integrate(hrho, lower=0, upper=1, a=a1, b=b1)$value\n",
    "print(H)"
   ]
  },
  {
   "cell_type": "markdown",
   "metadata": {},
   "source": [
    "We can see from the above two cells that the MC approximation with $m$ samples ($\\hat H \\approx 1.253019$) comes pretty close to the numerical average ($H \\approx 1.252441$)."
   ]
  },
  {
   "cell_type": "code",
   "execution_count": 14,
   "metadata": {
    "vscode": {
     "languageId": "r"
    }
   },
   "outputs": [
    {
     "data": {
      "image/png": "[encoded data removed]",
      "text/plain": [
       "Plot with title \"P * \"|\" * Y == y %~% textstyle(\"Beta\")(a[1], b[1])\""
      ]
     },
     "metadata": {
      "image/png": {
       "height": 420,
       "width": 420
      }
     },
     "output_type": "display_data"
    }
   ],
   "source": [
    "h0 <- 0.9\n",
    "hf <- 1.6\n",
    "nh <- 100\n",
    "dh <- (hf - h0)/(nh - 1)\n",
    "hP <- seq(h0, hf, length=nh)\n",
    "P <- exp(hP)/(exp(hP) + 1)\n",
    "rhoP <- dbeta(P, shape1=a1, shape2=b1)\n",
    "rhoP <- rhoP/(sum(rhoP)*dh)\n",
    "hist(hps, freq=F, xlab=expression(h(p)), ylim=c(0,max(rhoP)),\n",
    "     main=expression(P *\"|\"* Y==y %~% textstyle(\"Beta\")(a[1],b[1])))\n",
    "lines(hP, rhoP, lwd=2)\n",
    "abline(v=H, col=\"red\")\n",
    "abline(v=Hhat, col=\"red\", lwd=2, lty=2)"
   ]
  },
  {
   "cell_type": "markdown",
   "metadata": {},
   "source": [
    "As in the previous section, we can (effectively) run the simulation multiple times from a small $m$ to a large one to get a running MC average:"
   ]
  },
  {
   "cell_type": "code",
   "execution_count": 15,
   "metadata": {
    "vscode": {
     "languageId": "r"
    }
   },
   "outputs": [],
   "source": [
    "set.seed(6)\n",
    "N <- 10000\n",
    "M <- 5\n",
    "ms <- integer(N)\n",
    "Hhats <- numeric(N)\n",
    "ses <- numeric(N)\n",
    "ps <- NULL\n",
    "hps <- NULL\n",
    "for (i in 1:N) {\n",
    "    ms[i] <- M*i\n",
    "    q <- rbeta(n=M, shape1=a1, shape2=b1)\n",
    "    ps <- append(ps, q)\n",
    "    hps <- append(hps, log(q/(1-q)))\n",
    "    Hhats[i] <- mean(hps)\n",
    "    ses[i] <- sqrt(var(hps)/ms[i])\n",
    "}\n",
    "us <- Hhats + 1.96*ses\n",
    "ls <- Hhats - 1.96*ses"
   ]
  },
  {
   "cell_type": "markdown",
   "metadata": {},
   "source": [
    "Finally, let's visualize the convergence of $\\hat H$ to $H$ with respect to $m$."
   ]
  },
  {
   "cell_type": "code",
   "execution_count": 16,
   "metadata": {
    "vscode": {
     "languageId": "r"
    }
   },
   "outputs": [
    {
     "data": {
      "image/png": "[encoded data removed]",
      "text/plain": [
       "Plot with title \"E(P * \"|\" * Y == y)\""
      ]
     },
     "metadata": {
      "image/png": {
       "height": 420,
       "width": 420
      }
     },
     "output_type": "display_data"
    }
   ],
   "source": [
    "plot(ms, us, col=\"grey\", xlab=\"m\", ylab=\"p\",\n",
    "     main=expression(\"E\"(P *\"|\"* Y==y)),\n",
    "     ylim=c(min(ls, na.rm=T), max(us, na.rm=T)), type=\"l\")\n",
    "lines(ms, ls, col=\"grey\")\n",
    "lines(ms, Hhats)\n",
    "abline(h=H, col=\"red\", lwd=2, lty=2)"
   ]
  }
 ],
 "metadata": {
  "kernelspec": {
   "display_name": "R [conda env:r-base]",
   "language": "R",
   "name": "conda-env-r-base-r"
  },
  "language_info": {
   "codemirror_mode": "r",
   "file_extension": ".r",
   "mimetype": "text/x-r-source",
   "name": "R",
   "pygments_lexer": "r",
   "version": "4.1.3"
  },
  "vscode": {
   "interpreter": {
    "hash": "30c8a02340e79ff5625771158a18e32a0ef675c523e55c92f59e9128061b38cb"
   }
  }
 },
 "nbformat": 4,
 "nbformat_minor": 4
}
