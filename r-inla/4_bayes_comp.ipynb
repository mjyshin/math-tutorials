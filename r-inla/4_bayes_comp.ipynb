{
 "cells": [
  {
   "cell_type": "markdown",
   "metadata": {},
   "source": [
    "# 4. Bayesian computing\n",
    "\n",
    "This notebook will cover important [`R`](https://www.r-project.org/) commands highlighted in Ch. 4 of the textbook, *Spatial and Spatio-temporal Bayesian Models with R-INLA* by Blangiardo and Cameletti.\n",
    "\n",
    "## 4.4. Monte Carlo simulations\n",
    "\n",
    "### Approximating the rate parameter\n",
    "\n",
    "Let's imagine a stochastic process that occurs (i.e., succeeds) at an unknown rate $\\lambda$ [1/s]. We collect data by considering $n$ successes and computing the time interval between them (starting from $t=0$). We can simulate this by sampling from the probabilistic model, called the **likelihood** $\\rho(\\mathcal{D} \\vert \\theta)$, where we model the wait time interval data as a r.v.\n",
    "\n",
    "$$\n",
    "Y \\sim \\text{Exponential}(\\lambda).\n",
    "$$\n",
    "\n",
    "Let $\\mathbf{y} := (y_i)_{i=1}^n$, where each $y_i$ is an i.i.d. realization of $Y$. Setting $n := 50$ and $\\lambda := 2$, we simulate the data using `R`'s [`rexp`](https://stat.ethz.ch/R-manual/R-devel/library/stats/html/Exponential.html) function."
   ]
  },
  {
   "cell_type": "code",
   "execution_count": 1,
   "metadata": {
    "vscode": {
     "languageId": "r"
    }
   },
   "outputs": [
    {
     "name": "stdout",
     "output_type": "stream",
     "text": [
      " [1] 0.37759092 0.59082139 0.07285336 0.06989763 0.21803431 1.44748427\n",
      " [7] 0.61478103 0.26984142 0.47828375 0.07352300 0.69536756 0.38101493\n",
      "[13] 0.61880178 2.21196711 0.52727158 0.51762197 0.93801759 0.32737332\n",
      "[19] 0.16846674 0.29423986 1.18225763 0.32094629 0.14706019 0.28293276\n",
      "[25] 0.05303631 0.02971958 0.28935623 1.97946643 0.58665605 0.49840648\n",
      "[31] 0.71764267 0.01863426 0.16200508 0.66023396 0.10175518 0.51136294\n",
      "[37] 0.15087047 0.36260715 0.37577135 0.11751373 0.53994057 0.51412345\n",
      "[43] 0.64613082 0.62655268 0.27732070 0.15064150 0.64656233 0.49727789\n",
      "[49] 0.25708715 1.00391620\n"
     ]
    }
   ],
   "source": [
    "set.seed(1)\n",
    "n <- 50\n",
    "lambda <- 2\n",
    "y <- rexp(n, lambda)\n",
    "print(y)"
   ]
  },
  {
   "cell_type": "markdown",
   "metadata": {},
   "source": [
    "Our job now is to take the data $\\mathbf{y}$ and reverse-engineer the true rate $\\lambda$ from it (hopefully we get something close to 2!).\n",
    "\n",
    "We first need a guess for the rate parameter; in fact, we'll define an entire \"guess distribution\" for $\\lambda$, called the **prior** $\\rho(\\theta)$, where we assume this nonnegative temporal rate is an instance of a r.v.\n",
    "\n",
    "$$\n",
    "\\Lambda \\sim \\text{Gamma}(a,b).\n",
    "$$\n",
    "\n",
    "We will set the prior **hyperparameters** $a := 8$ and $b := 4$."
   ]
  },
  {
   "cell_type": "code",
   "execution_count": 2,
   "metadata": {
    "vscode": {
     "languageId": "r"
    }
   },
   "outputs": [],
   "source": [
    "a <- 8\n",
    "b <- 4"
   ]
  },
  {
   "cell_type": "markdown",
   "metadata": {},
   "source": [
    "The resulting **posterior** $\\rho(\\theta \\vert \\mathcal{D}) \\propto \\rho(\\mathcal{D} \\vert \\theta)\\rho(\\theta)$ is **conjugate** to the prior, i.e., the prior-likelihood pair produces a posterior from the same family of distributions as the prior. In this example,\n",
    "\n",
    "$$\n",
    "\\Lambda \\vert \\mathbf{Y}=\\mathbf{y} \\sim \\text{Gamma}(a_1,b_1),\n",
    "$$\n",
    "\n",
    "where $a_1 := a+n$ and $b_1 := b+n\\bar y$ (here $\\bar y$ denotes the data mean)."
   ]
  },
  {
   "cell_type": "code",
   "execution_count": 3,
   "metadata": {
    "vscode": {
     "languageId": "r"
    }
   },
   "outputs": [],
   "source": [
    "a1 <- a + n\n",
    "b1 <- b + n*mean(y)"
   ]
  },
  {
   "cell_type": "markdown",
   "metadata": {},
   "source": [
    "---\n",
    "\n",
    "#### An aside: Posterior derivation\n",
    "\n",
    "If it's hard to convince yourself that the resulting posterior distribution, in this case, is indeed another gamma distribution, we will derive this fact here. First we consider the exponential likelihood for *one observation* with its density/**PDF**'s functional form\n",
    "\n",
    "$$\n",
    "\\rho(y \\vert \\lambda) = \\lambda e^{-\\lambda y}.\n",
    "$$\n",
    "\n",
    "Similarly, the prior PDF is\n",
    "\n",
    "$$\n",
    "\\rho(\\lambda) \\propto \\lambda^{a-1}e^{-b\\lambda}.\n",
    "$$\n",
    "\n",
    "The resulting posterior PDF from the product of the two is, then,\n",
    "\n",
    "$$\n",
    "\\rho(\\lambda \\vert y) \\propto \\lambda^{(a+1)-1}e^{-(b+y)\\lambda},\n",
    "$$\n",
    "\n",
    "that is, $\\Lambda \\vert Y=y \\sim \\text{Gamma}(a+1,b+y)$.\n",
    "\n",
    "Next, let's consider the case with $n$ observations. Since we assume that they are i.i.d., the likelihood is the product\n",
    "\n",
    "$$\n",
    "\\rho(\\mathbf{y}) = \\prod_{i=1}^n \\rho(y_i) = \\lambda^n \\prod_{i=1}^n e^{-\\lambda y_i} = \\lambda^n e^{-\\lambda \\sum_{i=1}^n y_i},\n",
    "$$\n",
    "\n",
    "and the resulting posterior is\n",
    "\n",
    "$$\n",
    "\\rho(\\lambda \\vert \\mathbf{y}) \\propto \\lambda^{(a+n)-1}e^{-(b+\\sum_{i=1}^n y_i)\\lambda}.\n",
    "$$\n",
    "\n",
    "Noting the equivalence $\\sum_{i=1}^n y_i = n\\bar y$ from the definition of sample mean, we arrive at the posterior distribution above:\n",
    "\n",
    "$$\n",
    "\\Lambda \\vert \\mathbf{Y}=\\mathbf{y} \\sim \\text{Gamma}(a+n,b+n\\bar y).\n",
    "$$\n",
    "\n",
    "---\n",
    "\n",
    "Given this posterior, we can now answer the question of, \"What is the rate parameter given the data (and prior assumptions)?\". One such answer is to take the expected value of the posterior distribution, that is, $\\hat\\lambda := \\mathbb{E}[\\Lambda \\vert \\mathbf{Y}=\\mathbf{y}]$. In this particular case, there is an analytical form of $\\hat\\lambda$, namely, $\\frac{a_1}{b_1} = \\frac{a+n}{b+n\\bar y}$."
   ]
  },
  {
   "cell_type": "code",
   "execution_count": 4,
   "metadata": {
    "vscode": {
     "languageId": "r"
    }
   },
   "outputs": [
    {
     "name": "stdout",
     "output_type": "stream",
     "text": [
      "[1] 2.027898\n"
     ]
    }
   ],
   "source": [
    "lambdahat <- a1/b1\n",
    "print(lambdahat)"
   ]
  },
  {
   "cell_type": "markdown",
   "metadata": {},
   "source": [
    "However, an alternate answer to our question could have been the median of the posterior. Even in the case with a well-known (gamma) distribution, there is no analytical form for the median and it must be approximated asymptotically/computationally. We can even anticipate more difficult cases where not even an asymptotic form exists; how, then, should we go around this problem? One answer is with **Monte Carlo (MC) simulations**.\n",
    "\n",
    "Let's continue with the expected value example. We want to simulate samples of $\\lambda$ from the posterior gamma distribution. We will set the number of samples as $m := 1000$ and use `R`'s [`rgamma`](https://stat.ethz.ch/R-manual/R-devel/library/stats/html/GammaDist.html) function. Finally, we take the sample mean to get the simulated estimate $\\bar\\lambda$."
   ]
  },
  {
   "cell_type": "code",
   "execution_count": 131,
   "metadata": {
    "vscode": {
     "languageId": "r"
    }
   },
   "outputs": [
    {
     "name": "stdout",
     "output_type": "stream",
     "text": [
      "[1] 2.040972\n"
     ]
    }
   ],
   "source": [
    "set.seed(2)\n",
    "m <- 1000\n",
    "lambdas <- rgamma(n=m, shape=a1, rate=b1)\n",
    "lambdabar <- mean(lambdas)\n",
    "print(lambdabar)"
   ]
  },
  {
   "cell_type": "markdown",
   "metadata": {},
   "source": [
    "The sample mean $\\bar\\lambda \\approx 2.040972$ is not too far off from the theoretical mean $\\hat\\lambda \\approx 2.027898$, which is not a bad estimate of the unknown, data-generating rate $\\lambda = 2$.\n",
    "\n",
    "Let's visualize the entire posterior distribution $\\rho(\\lambda \\vert \\mathbf{y})$ (histogram of the simulations and theoretical density in black) and the expected value (solid vertical line for $\\hat\\lambda$ and dashed for $\\bar\\lambda$ in red):"
   ]
  },
  {
   "cell_type": "code",
   "execution_count": 132,
   "metadata": {
    "vscode": {
     "languageId": "r"
    }
   },
   "outputs": [
    {
     "data": {
      "image/png": "[encoded data removed]",
      "text/plain": [
       "Plot with title \"paste(\"Gamma(\", a[1], \",\", b[1], \")\")\""
      ]
     },
     "metadata": {
      "image/png": {
       "height": 420,
       "width": 420
      }
     },
     "output_type": "display_data"
    }
   ],
   "source": [
    "hist(lambdas, freq=F, xlim=c(0,4), ylim=c(0,1.5), xlab=expression(lambda),\n",
    "     main=expression(paste(\"Gamma(\", a[1], \",\", b[1], \")\")))\n",
    "curve(dgamma(x, a1, rate=b1), from=0, to=4, lwd=2, add=T)\n",
    "abline(v=lambdahat, col=\"red\")\n",
    "abline(v=lambdabar, col=\"red\", lwd=2, lty=2)"
   ]
  },
  {
   "cell_type": "markdown",
   "metadata": {},
   "source": [
    "#### Effect of simulation size\n",
    "\n",
    "We had somewhat arbitrarily set the simulation size at $m := 1000$. However, we would expect the sample mean $\\bar\\lambda$ to \"converge\" to the theoretical mean $\\hat\\lambda$ as we increase $m$. Furthermore, how *quickly* these means converge can be captured by the standard error of the sample mean estimate\n",
    "\n",
    "$$\n",
    "\\text{SE}(\\bar\\lambda) = \\sqrt{\\frac{s^2}{m}} = \\sqrt{\\frac{\\frac{1}{m}\\sum_{j=1}^m (\\lambda_j-\\bar\\lambda)^2}{m}} \\approx \\sqrt{\\frac{\\text{Var}(\\Lambda\\vert\\mathbf{Y}=\\mathbf{y})}{m}},\n",
    "$$\n",
    "\n",
    "where $s^2$ is the sample variance of the $m$ simulated $\\lambda_j$'s from the posterior distribution. Note the use of the [`set.seed`](https://stat.ethz.ch/R-manual/R-devel/library/base/html/Random.html) function *inside* the `for` loop so we can track the evolution of the rate estimate as a running average, as well as the upper ($u := \\bar\\lambda+1.96\\text{SE}(\\bar\\lambda)$) and lower ($l := \\bar\\lambda-1.96\\text{SE}(\\bar\\lambda)$) 95% confidence bounds."
   ]
  },
  {
   "cell_type": "code",
   "execution_count": 163,
   "metadata": {
    "vscode": {
     "languageId": "r"
    }
   },
   "outputs": [],
   "source": [
    "N <- 5000\n",
    "ms <- integer(N)\n",
    "lambdabars <- numeric(N)\n",
    "ses <- numeric(N)\n",
    "for (i in 1:N) {\n",
    "    set.seed(3)\n",
    "    ms[i] <- i\n",
    "    lambdas <- rgamma(n=ms[i], shape=a1, rate=b1)\n",
    "    lambdabars[i] <- mean(lambdas)\n",
    "    ses[i] <- sqrt(var(lambdas)/ms[i])\n",
    "}\n",
    "us <- lambdabars + 1.96*ses\n",
    "ls <- lambdabars - 1.96*ses"
   ]
  },
  {
   "cell_type": "markdown",
   "metadata": {},
   "source": [
    "Visualizing the sample means (black) and confidence bounds (grey), as well as the true rate $\\lambda$ (solid) and the theoretical posterior mean $\\hat\\lambda$ (dashed) in red, we can see the running average tending towards the theoretical mean on the order of $\\text{SE}(\\bar\\lambda) \\sim 1/\\sqrt{m}$."
   ]
  },
  {
   "cell_type": "code",
   "execution_count": 174,
   "metadata": {
    "vscode": {
     "languageId": "r"
    }
   },
   "outputs": [
    {
     "data": {
      "image/png": "[encoded data removed]",
      "text/plain": [
       "Plot with title \"abs(bar(lambda)[m] - hat(lambda))\""
      ]
     },
     "metadata": {
      "image/png": {
       "height": 420,
       "width": 420
      }
     },
     "output_type": "display_data"
    }
   ],
   "source": [
    "par(mfrow=c(2,1))\n",
    "plot(ms, us, col=\"gray\", xlab=\"m\", ylab=expression(lambda),\n",
    "     main=expression(paste(\"E[\", Lambda, \"|\", Y==y, \"]\")),\n",
    "     ylim=c(min(ls, na.rm=T), max(us, na.rm=T)), type=\"l\")\n",
    "lines(ms, ls, col=\"grey\")\n",
    "lines(ms, lambdabars)\n",
    "abline(h=lambda, col=\"red\")\n",
    "abline(h=lambdahat, col=\"red\", lwd=2, lty=2)\n",
    "plot(-1/sqrt(ms), abs(lambdabars - lambdahat), type=\"l\",\n",
    "     xlab=expression(-1/sqrt(m)), ylab=expression(epsilon),\n",
    "     main=expression(abs(bar(lambda)[m] - hat(lambda))))"
   ]
  },
  {
   "cell_type": "markdown",
   "metadata": {},
   "source": [
    "### Approximating a generic observable\n",
    "\n",
    "The next example we will consider deals with using MC simulations to estimate a statistic derived from a model parameter. To make things more concrete, let's imagine $n$ random events, each with an unknown probability $p$ of success. This can data-generating process can be modeled as a r.v.\n",
    "\n",
    "$$\n",
    "Y \\sim \\text{Binomial}(n,p).\n",
    "$$\n",
    "\n",
    "We will set $n := 1000$ and $p := 0.8$."
   ]
  },
  {
   "cell_type": "code",
   "execution_count": 147,
   "metadata": {
    "vscode": {
     "languageId": "r"
    }
   },
   "outputs": [
    {
     "name": "stdout",
     "output_type": "stream",
     "text": [
      "[1] 778\n"
     ]
    }
   ],
   "source": [
    "set.seed(4)\n",
    "n <- 1000\n",
    "p <- 0.8\n",
    "y <- rbinom(n=1, size=n, p=p)\n",
    "print(y)"
   ]
  }
 ],
 "metadata": {
  "kernelspec": {
   "display_name": "R",
   "language": "R",
   "name": "ir"
  },
  "language_info": {
   "codemirror_mode": "r",
   "file_extension": ".r",
   "mimetype": "text/x-r-source",
   "name": "R",
   "pygments_lexer": "r",
   "version": "4.1.3"
  },
  "vscode": {
   "interpreter": {
    "hash": "30c8a02340e79ff5625771158a18e32a0ef675c523e55c92f59e9128061b38cb"
   }
  }
 },
 "nbformat": 4,
 "nbformat_minor": 4
}
